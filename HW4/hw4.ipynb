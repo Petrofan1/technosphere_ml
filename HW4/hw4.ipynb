{
 "cells": [
  {
   "cell_type": "markdown",
   "metadata": {},
   "source": [
    "### Алгоритмы интеллектуальной обработки больших объемов данных\n",
    "## Домашнее задание №4 - Градиентный бустинг\n"
   ]
  },
  {
   "cell_type": "markdown",
   "metadata": {},
   "source": [
    "**Общая информация**\n",
    "\n",
    "**Срок сдачи:** 10 мая 2021, 08:30   \n",
    "**Штраф за опоздание:** -2 балла после 08:30 10 мая, -4 балла после 08:30 17 мая, -6 баллов после 08:30 24 мая, -8 баллов после 08:30 31 мая.\n",
    "\n",
    "При отправлении ДЗ указывайте фамилию в названии файла Присылать ДЗ необходимо в виде ссылки на свой github репозиторий на почту ml1.sphere@mail.ru с указанием темы в следующем формате:\n",
    "[ML0221, Задание 4] Фамилия Имя. \n",
    "\n",
    "\n",
    "Используйте данный Ipython Notebook при оформлении домашнего задания."
   ]
  },
  {
   "cell_type": "markdown",
   "metadata": {},
   "source": [
    "##  Считаем производные для функций потерь (1 балл)"
   ]
  },
  {
   "cell_type": "markdown",
   "metadata": {},
   "source": [
    "Мы будем реализовать градиентный бустинг для 3 функций потерь:\n",
    "\n",
    "1) MSE  $L(a(x_i), y_i) = (y_i - a(x_i)) ^ 2$\n",
    "\n",
    "2) Экспоненциальная  $L(a(x_i), y_i) = exp( -a(x_i) y_i), y_i \\in \\{-1, 1\\}$\n",
    "\n",
    "3) Логистическая  $L(a(x_i), y_i) = \\log (1 + exp( -a(x_i) y_i)), y_i \\in \\{-1, 1\\}$\n",
    "\n",
    "где $a(x_i)$ предсказание бустинга на итом объекте. \n",
    "\n",
    "Для каждой функции потерь напишите таргет, на который будет настраиваться каждое дерево в бустинге. "
   ]
  },
  {
   "cell_type": "markdown",
   "metadata": {},
   "source": [
    "1) $-\\frac{\\partial L}{\\partial a(x_i)}\\ =\\ -\\frac{\\partial L}{\\partial a(x_i)}(y_i - a(x_i)) ^ 2\\ =\\ 2\\cdot(y_i\\ -\\ a(x_i))$\\\n",
    "2) $-\\frac{\\partial L}{\\partial a(x_i)}\\ =\\ -\\frac{\\partial L}{\\partial a(x_i)}exp( -a(x_i) y_i)\\ =\\ y_i\\cdot exp( -a(x_i) y_i)$\\\n",
    "3) $-\\frac{\\partial L}{\\partial a(x_i)}\\ =\\ -\\frac{\\partial L}{\\partial a(x_i)}\\log (1 + exp( -a(x_i) y_i))\\ =\\ \\frac{y_i\\cdot exp( -a(x_i) y_i)}{1\\ +\\ exp( -a(x_i) y_i)}\\ =\\ \\frac{y_i}{1\\ +\\ exp(a(x_i) y_i)}$"
   ]
  },
  {
   "cell_type": "markdown",
   "metadata": {},
   "source": [
    "##  Реализуем градиентный бустинг (3 балла)"
   ]
  },
  {
   "cell_type": "markdown",
   "metadata": {},
   "source": [
    "Реализуйте класс градиентного бустинга для классификации. Ваша реализация бустинга должна работать по точности не более чем на 5 процентов хуже чем GradientBoostingClassifier из sklearn. \n"
   ]
  },
  {
   "cell_type": "markdown",
   "metadata": {},
   "source": [
    "Детали реализации:\n",
    "\n",
    "-- должно поддерживаться 3 функции потерь\n",
    "\n",
    "-- сами базовые алгоритмы(деревья, линейные модели и тп) реализовать не надо, просто возьмите готовые из sklearn\n",
    "\n",
    "-- в качестве функции потерь для построения одного дерева используйте MSE\n",
    "\n",
    "-- шаг в бустинге можно не подбирать, можно брать константный\n",
    "\n",
    "-- можно брать разные модели в качестве инициализации бустинга\n",
    "\n",
    "-- должны поддерживаться следующие параметры:\n",
    "\n",
    "а) число итераций\n",
    "б) размер шага\n",
    "в) процент случайных фичей при построении одного дерева\n",
    "д) процент случайных объектов при построении одного дерева\n",
    "е) параметры базового алгоритма (передавайте через **kwargs)"
   ]
  },
  {
   "cell_type": "code",
   "execution_count": 1449,
   "metadata": {},
   "outputs": [],
   "source": [
    "import numpy as np\n",
    "\n",
    "import matplotlib\n",
    "import matplotlib.pyplot as plt\n",
    "plt.style.use(\"ggplot\")\n",
    "\n",
    "from sklearn.datasets import load_wine\n",
    "from sklearn.ensemble import GradientBoostingClassifier\n",
    "from sklearn.metrics import accuracy_score\n",
    "from sklearn.model_selection import train_test_split\n",
    "from sklearn.tree import DecisionTreeRegressor"
   ]
  },
  {
   "cell_type": "code",
   "execution_count": 1535,
   "metadata": {},
   "outputs": [],
   "source": [
    "class MyGradientBoostingClassifier():\n",
    "\n",
    "    def __init__(self, loss=\"mse\", learning_rate=0.01, n_estimators=100, colsample=1.0, subsample=1.0, *args, **kwargs):\n",
    "        \"\"\"\n",
    "        loss -- один из 3 лоссов:\n",
    "        learning_rate -- шаг бустинга\n",
    "        n_estimators -- число итераций\n",
    "        colsample -- процент рандомных признаков при обучнеии одного алгоритма\n",
    "        colsample -- процент рандомных объектов при обучнеии одного алгоритма\n",
    "        args, kwargs -- параметры  базовых моделей\n",
    "        \"\"\"\n",
    "        self.loss = loss\n",
    "        self.learning_rate = learning_rate\n",
    "        self.n_estimators = n_estimators\n",
    "        self.colsample = colsample\n",
    "        self.subsample = subsample\n",
    "        self.args = args\n",
    "        self.kwargs = kwargs\n",
    "    \n",
    "    def loss_grad(self, y_true, y_pred):\n",
    "        if self.loss == \"mse\":\n",
    "            return 2. * (y_true - y_pred)\n",
    "        if self.loss == \"exp\":\n",
    "            return y_true * np.exp (-y_true * y_pred)\n",
    "        if self.loss == \"log\":\n",
    "            return y_true / (1 + np.exp(y_true * y_pred))\n",
    "    \n",
    "    def loss_func(self, y_true, y_pred):\n",
    "        if self.loss == \"mse\":\n",
    "            return np.sum((y_true - y_pred) ** 2)\n",
    "        if self.loss == \"exp\":\n",
    "            return np.sum(np.exp (-y_true * y_pred))\n",
    "        if self.loss == \"log\":\n",
    "            return np.sum(np.log(1 + np.exp(-y_pred * y_true)))\n",
    "    \n",
    "    def add_loss(self, target, y, array):\n",
    "        if self.loss in [\"log\", \"exp\"]:\n",
    "            array.append(accuracy_score(y_pred=(target > 0).astype(int), y_true=((y / 2) + 1).astype(int)))\n",
    "        else:\n",
    "            array.append(accuracy_score(y_pred=np.round(target), y_true=y))\n",
    "    def fit(self, X, y, X_val=[], y_val=[], base_model=DecisionTreeRegressor, init_model=None):\n",
    "        \"\"\"\n",
    "        X -- объекты для обучения:\n",
    "        y -- таргеты для обучения\n",
    "        base_model -- класс базовых моделей, например sklearn.tree.DecisionTreeRegressor\n",
    "        init_model -- класс для первой модели, если None то берем константу (только для посл задания)\n",
    "        \"\"\"\n",
    "        self.models = []\n",
    "        self.loss_train = []\n",
    "        self.masks = []\n",
    "        self.y = np.array(y)\n",
    "        mask_samples = np.concatenate((np.ones(int(y.shape[0] * self.subsample)), \n",
    "                                       np.zeros(y.shape[0] - int(y.shape[0] * self.subsample))))\n",
    "        mask_features = np.concatenate((np.ones(int(X.shape[1] * self.colsample)), \n",
    "                                        np.zeros(X.shape[1] - int(X.shape[1] * self.colsample))))\n",
    "        np.random.shuffle(mask_samples)\n",
    "        np.random.shuffle(mask_features)\n",
    "        if init_model:\n",
    "            model = init_model()\n",
    "            self.initialization = lambda X: model.predict(X)\n",
    "            model.fit(X, y)\n",
    "            target = model.predict(X)\n",
    "        else:\n",
    "            self.initialization = lambda X: np.ones(X.shape[0]) * np.mean(self.y)\n",
    "            target = np.ones(y.shape) * np.mean(y)\n",
    "        self.add_loss(target, y, self.loss_train)\n",
    "        if len(X_val):\n",
    "            target_val = self.initialization(X_val)\n",
    "            self.loss_val = []\n",
    "            self.add_loss(target_val, y_val, self.loss_val)\n",
    "        for i in range(self.n_estimators):\n",
    "            new_model = base_model(*self.args, **self.kwargs).fit(X[:, mask_features.astype(bool)], \n",
    "                                                                  self.loss_grad(y, target) * mask_samples)\n",
    "            self.masks.append(mask_features.astype(bool))\n",
    "            self.models.append(new_model)\n",
    "            target += self.learning_rate * new_model.predict(X[:, mask_features.astype(bool)])\n",
    "            self.add_loss(target, y, self.loss_train)\n",
    "            if len(X_val):\n",
    "                target_val += self.learning_rate * new_model.predict(X_val[:, mask_features.astype(bool)])\n",
    "                self.add_loss(target_val, y_val, self.loss_val)\n",
    "            np.random.shuffle(mask_samples)\n",
    "            np.random.shuffle(mask_features)\n",
    "        \n",
    "    def predict(self, X):\n",
    "        target = self.initialization(X)\n",
    "        for i, model in enumerate(self.models):\n",
    "            target += self.learning_rate * model.predict(X[:, self.masks[i]])\n",
    "        if self.loss in [\"log\", \"exp\"]:\n",
    "            return (target > 0).astype(int)\n",
    "        else:\n",
    "            return np.round(target)"
   ]
  },
  {
   "cell_type": "code",
   "execution_count": 1339,
   "metadata": {},
   "outputs": [],
   "source": [
    "my_clf = MyGradientBoostingClassifier()\n",
    "clf = GradientBoostingClassifier()"
   ]
  },
  {
   "cell_type": "code",
   "execution_count": 1340,
   "metadata": {},
   "outputs": [],
   "source": [
    "wine = load_wine()\n",
    "X_train, X_test, y_train, y_test = train_test_split(wine.data, wine.target, \n",
    "                                                    test_size=0.1, \n",
    "                                                    stratify=wine.target, \n",
    "                                                    random_state=42)"
   ]
  },
  {
   "cell_type": "code",
   "execution_count": 1341,
   "metadata": {},
   "outputs": [
    {
     "name": "stdout",
     "output_type": "stream",
     "text": [
      "1.0\n",
      "1.0\n"
     ]
    }
   ],
   "source": [
    "my_clf.fit(X_train, y_train)\n",
    "clf.fit(X_train, y_train)\n",
    "print(accuracy_score(y_pred=clf.predict(X_test), y_true=y_test))\n",
    "print(accuracy_score(y_pred=my_clf.predict(X_test), y_true=y_test))"
   ]
  },
  {
   "cell_type": "markdown",
   "metadata": {},
   "source": [
    "## Подбираем параметры (2 балла)\n",
    "\n",
    "Давайте попробуем применить Ваш бустинг для предсказаний цены домов в Калифорнии. Чтобы можно было попробовтаь разные функции потерь, переведем по порогу таргет в 2 класса: дорогие и дешевые дома."
   ]
  },
  {
   "cell_type": "markdown",
   "metadata": {},
   "source": [
    "В задании нужно\n",
    "\n",
    "1) Построить график точности в зависимости от числа итераций на валидации.\n",
    "\n",
    "2) Подобрать оптимальные параметры Вашего бустинга на валидации. \n"
   ]
  },
  {
   "cell_type": "code",
   "execution_count": 1319,
   "metadata": {},
   "outputs": [],
   "source": [
    "from sklearn.datasets import fetch_california_housing\n",
    "X, y = fetch_california_housing(return_X_y=True)"
   ]
  },
  {
   "cell_type": "code",
   "execution_count": 1320,
   "metadata": {},
   "outputs": [
    {
     "name": "stdout",
     "output_type": "stream",
     "text": [
      "(20640, 8) (20640,)\n"
     ]
    }
   ],
   "source": [
    "# Превращаем регрессию в классификацию\n",
    "y = (y > 2.0).astype(int)\n",
    "print(X.shape, y.shape)"
   ]
  },
  {
   "cell_type": "code",
   "execution_count": 1373,
   "metadata": {
    "scrolled": true
   },
   "outputs": [],
   "source": [
    "X_train, X_test, y_train, y_test = train_test_split(X, y, \n",
    "                                                    test_size=0.2, \n",
    "                                                    stratify=y, \n",
    "                                                    shuffle=True, \n",
    "                                                    random_state=42)\n",
    "model = MyGradientBoostingClassifier(loss=\"mse\", n_estimators=800, learning_rate=0.01)\n",
    "model.fit(X_train, y_train * 2 - 1, X_val=X_test, y_val=y_test * 2 - 1)"
   ]
  },
  {
   "cell_type": "code",
   "execution_count": 1374,
   "metadata": {},
   "outputs": [
    {
     "data": {
      "image/png": "[encoded data removed]",
      "text/plain": [
       "<Figure size 1080x576 with 1 Axes>"
      ]
     },
     "metadata": {},
     "output_type": "display_data"
    }
   ],
   "source": [
    "plt.figure(figsize=(15, 8))\n",
    "matplotlib.rc('font', size=11)\n",
    "plt.plot(range(len(model.loss_train)), model.loss_train, label=\"train\")\n",
    "plt.plot(range(len(model.loss_val)), model.loss_val, label=\"test\")\n",
    "plt.legend()\n",
    "plt.title(\"Зависимость точности модели от числа итераций (на тренировочной и тестовой выборке)\")\n",
    "plt.xlabel(\"Номер итерации\")\n",
    "plt.ylabel(\"Точность\")\n",
    "plt.show()"
   ]
  },
  {
   "cell_type": "markdown",
   "metadata": {},
   "source": [
    "Из графика видно, что точность на валидации перестает меняться, начиная с примерно 100-ой итерцаии. Это число базовых алгоритмов и возьмем в качестве оптимального."
   ]
  },
  {
   "cell_type": "code",
   "execution_count": 1384,
   "metadata": {
    "scrolled": true
   },
   "outputs": [],
   "source": [
    "grid = {\"loss\": [\"exp\", \"log\", \"mse\"],\n",
    "        \"colsample\" : np.arange(0.2, 1.1, 0.2),\n",
    "        \"subsample\" : np.arange(0.2, 1.1, 0.2)\n",
    "       }\n",
    "result = {}\n",
    "for loss in grid[\"loss\"]:\n",
    "    for colsample in grid[\"colsample\"]:\n",
    "        for subsample in grid[\"subsample\"]:\n",
    "            model = MyGradientBoostingClassifier(learning_rate=0.1, \n",
    "                                                 n_estimators=100, \n",
    "                                                 loss=loss, \n",
    "                                                 subsample=subsample, \n",
    "                                                 colsample=colsample)\n",
    "            model.fit(X_train, y_train * 2 - 1)\n",
    "            result[(loss, colsample, subsample)] = accuracy_score(y_test, model.predict(X_test))"
   ]
  },
  {
   "cell_type": "code",
   "execution_count": 1390,
   "metadata": {},
   "outputs": [],
   "source": [
    "best_score = 0\n",
    "for params, score in result.items():\n",
    "    if score > best_score:\n",
    "        best_params = params\n",
    "        best_score = score"
   ]
  },
  {
   "cell_type": "code",
   "execution_count": 1395,
   "metadata": {},
   "outputs": [
    {
     "name": "stdout",
     "output_type": "stream",
     "text": [
      "Лучшие параметры:\n",
      "\tloss: exp,\n",
      "\tcolsample: 0.8,\n",
      "\tsubsample: 1.0.\n",
      "Лучший score: 0.8837209302325582\n"
     ]
    }
   ],
   "source": [
    "print(f\"Лучшие параметры:\\n\\tloss: {best_params[0]},\\n\\tcolsample: {best_params[1]},\\n\\tsubsample: {best_params[2]}.\\n\"\n",
    "        f\"Лучший score: {best_score}\")"
   ]
  },
  {
   "cell_type": "markdown",
   "metadata": {},
   "source": [
    "## BooBag BagBoo (1 балл)\n",
    "\n"
   ]
  },
  {
   "cell_type": "markdown",
   "metadata": {},
   "source": [
    "Попробуем объединить бустинг и бэгинг. Давайте\n",
    "\n",
    "1) в качестве базовой модели брать не дерево решений, а случайный лес (из sklearn)\n",
    "\n",
    "2) обучать N бустингов на бустрапированной выборке, а затем предикт усреднять"
   ]
  },
  {
   "cell_type": "markdown",
   "metadata": {},
   "source": [
    "Попробуйте обе этих стратегии на данных из прошлого задания. Получилось ли улучшить качество? Почему?"
   ]
  },
  {
   "cell_type": "code",
   "execution_count": 1532,
   "metadata": {},
   "outputs": [],
   "source": [
    "from sklearn.ensemble import RandomForestRegressor\n",
    "model = MyGradientBoostingClassifier(learning_rate=0.1, \n",
    "                                         n_estimators=20, \n",
    "                                         loss=best_params[0], \n",
    "                                         subsample=best_params[1], \n",
    "                                         colsample=best_params[2],\n",
    "                                         n_jobs=-1)\n",
    "model.fit(X_train, (y_train * 2 - 1), base_model=RandomForestRegressor)"
   ]
  },
  {
   "cell_type": "code",
   "execution_count": 1533,
   "metadata": {},
   "outputs": [
    {
     "data": {
      "text/plain": [
       "0.8820251937984496"
      ]
     },
     "execution_count": 1533,
     "metadata": {},
     "output_type": "execute_result"
    }
   ],
   "source": [
    "accuracy_score(y_test, model.predict(X_test))"
   ]
  },
  {
   "cell_type": "code",
   "execution_count": 1519,
   "metadata": {},
   "outputs": [],
   "source": [
    "models = []\n",
    "N = 20\n",
    "\n",
    "for i in range(N):\n",
    "    model = MyGradientBoostingClassifier(learning_rate=0.1, \n",
    "                                         n_estimators=100, \n",
    "                                         loss=best_params[0], \n",
    "                                         subsample=best_params[1], \n",
    "                                         colsample=best_params[2])\n",
    "    mask = np.random.choice(np.arange(X_train.shape[0]), X_train.shape[0])\n",
    "    model.fit(X_train[mask], (y_train * 2 - 1)[mask])\n",
    "    models.append(model)"
   ]
  },
  {
   "cell_type": "code",
   "execution_count": 1548,
   "metadata": {
    "scrolled": true
   },
   "outputs": [
    {
     "data": {
      "text/plain": [
       "0.873062015503876"
      ]
     },
     "execution_count": 1548,
     "metadata": {},
     "output_type": "execute_result"
    }
   ],
   "source": [
    "accuracy_score(y_test, np.sum([model.predict(X_test) for model in models], axis=0) > (N / 2))"
   ]
  },
  {
   "cell_type": "markdown",
   "metadata": {},
   "source": [
    "Оба подхода отработали хорошо, но не дали какого-либо улучшения. В первом случае это может быть связано с малым количеством базовых моделей, а во втором - с сэмплированием"
   ]
  },
  {
   "cell_type": "markdown",
   "metadata": {
    "collapsed": true
   },
   "source": [
    "## Умная инициализация (1 балл)\n",
    "\n",
    "Попробуйте брать в качестве инициализации бустинга не константу, а какой-то алгоритм и уже от его предикта стартовать итерации бустинга. Попробуйте разные модели из sklearn: линейные модели, рандом форест, svm..\n",
    "\n",
    "Получилось ли улучшить качество? Почему?\n",
    "\n"
   ]
  },
  {
   "cell_type": "code",
   "execution_count": 1559,
   "metadata": {},
   "outputs": [
    {
     "name": "stdout",
     "output_type": "stream",
     "text": [
      "Для init_model = LinearRegression точность составила 0.8917151162790697\n",
      "Для init_model = SVR точность составила 0.8776647286821705\n",
      "Для init_model = RandomForestRegressor точность составила 0.8849321705426356\n"
     ]
    }
   ],
   "source": [
    "from sklearn.linear_model import LinearRegression\n",
    "from sklearn.svm import SVR\n",
    "result_init = []\n",
    "for init_model in [LinearRegression, SVR, RandomForestRegressor]:\n",
    "    model = MyGradientBoostingClassifier(learning_rate=0.1, \n",
    "                                         n_estimators=100, \n",
    "                                         loss=best_params[0], \n",
    "                                         subsample=best_params[1], \n",
    "                                         colsample=best_params[2])\n",
    "    model.fit(X_train, (y_train * 2 - 1), init_model=init_model)\n",
    "    result_init.append(accuracy_score(y_test, model.predict(X_test)))\n",
    "    print(f\"Для init_model = {init_model.__name__} точность составила {result_init[-1]}\")"
   ]
  },
  {
   "cell_type": "markdown",
   "metadata": {},
   "source": [
    "Инициализация предсказания линейной регрессией и случайным лесом дала прирост, что говорит о хорошем начальном приближении этими моделями\\\n",
    "Инициализация предсказания с помощью SVM не дала прироста, что может говорить о том, что исходная константная инициализация уже давала неплохое начальное приближение"
   ]
  },
  {
   "cell_type": "markdown",
   "metadata": {},
   "source": [
    "## Фидбек (бесценно)"
   ]
  },
  {
   "cell_type": "markdown",
   "metadata": {},
   "source": [
    "* Какие аспекты обучения  ансамблей Вам показались непонятными? Какое место стоит дополнительно объяснить?"
   ]
  },
  {
   "cell_type": "markdown",
   "metadata": {},
   "source": [
    "### Ваш ответ здесь"
   ]
  },
  {
   "cell_type": "markdown",
   "metadata": {},
   "source": [
    "* Здесь Вы можете оставить отзыв о этой домашней работе или о всем курсе."
   ]
  },
  {
   "cell_type": "markdown",
   "metadata": {},
   "source": [
    "### ВАШ ОТЗЫВ ЗДЕСЬ\n",
    "\n"
   ]
  },
  {
   "cell_type": "code",
   "execution_count": null,
   "metadata": {},
   "outputs": [],
   "source": []
  }
 ],
 "metadata": {
  "anaconda-cloud": {},
  "kernelspec": {
   "display_name": "Python 3",
   "language": "python",
   "name": "python3"
  },
  "language_info": {
   "codemirror_mode": {
    "name": "ipython",
    "version": 3
   },
   "file_extension": ".py",
   "mimetype": "text/x-python",
   "name": "python",
   "nbconvert_exporter": "python",
   "pygments_lexer": "ipython3",
   "version": "3.7.6"
  }
 },
 "nbformat": 4,
 "nbformat_minor": 2
}
